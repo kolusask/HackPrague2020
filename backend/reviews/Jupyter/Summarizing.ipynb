{
 "cells": [
  {
   "cell_type": "code",
   "execution_count": 4,
   "metadata": {},
   "outputs": [],
   "source": [
    "from nltk.stem import PorterStemmer\n",
    "from nltk.tokenize import word_tokenize,sent_tokenize\n",
    "from collections import defaultdict \n",
    "from gensim.summarization.summarizer import summarize\n",
    "from gensim.summarization import keywords \n",
    "import summarizer\n",
    "from nltk.corpus import stopwords"
   ]
  },
  {
   "cell_type": "code",
   "execution_count": 5,
   "metadata": {},
   "outputs": [],
   "source": [
    "class Summarizer(object):\n",
    "    def __init__(self,text):\n",
    "        self.text = text\n",
    "    \n",
    "    def _create_frequency_table(self):\n",
    "        ps = PorterStemmer()\n",
    "        stop_words = set(stopwords.words('english'))\n",
    "        words = word_tokenize(self.text)\n",
    "        self.freq_table = defaultdict(int)\n",
    "        for word in words:\n",
    "            word = ps.stem(word)\n",
    "            if word not in stop_words:\n",
    "                self.freq_table[word] += 1\n",
    "        return self\n",
    "    \n",
    "    def _score_sentences(self,sentences):\n",
    "        self.sentence_value = defaultdict(int)\n",
    "        for sentence in sentences:\n",
    "            word_not_in_stop_words = 0\n",
    "            for value in self.freq_dict:\n",
    "                if word_value in sentence.lower():\n",
    "                    word_not_in_stop_words += 1\n",
    "                    self.sentence_value[sentence[:10]] += self.freq_dict[word]\n",
    "            if sentence[:10] in self.sentence_value:\n",
    "                self.sentence_value[sentence[:10]] /= word_not_in_stop_words\n",
    "        return self\n",
    "    \n",
    "    def _find_average_score(self):\n",
    "        sum_values = 0\n",
    "        for entry in self.sentence_value:\n",
    "            sum_values += self.sentence_value[entry]\n",
    "        average = (sum_values/len(self.sentence_value))\n",
    "        return average\n",
    "    \n",
    "    def _generate_summary(self,sentences):\n",
    "        summary = ''\n",
    "        sentence_count = 0\n",
    "        for sentence in sentences:\n",
    "            if sentence[:10] in self.sentence_value and self.sentence_value[sentence[:10]] >= (self.threshold):\n",
    "                summary += \" \" + sentence\n",
    "                sentence_ount += 1\n",
    "        return summary\n",
    "    \n",
    "    def run(self):\n",
    "        sentence = sent_tokenize(self.text)\n",
    "        if len(sentence) < 2:\n",
    "            return sentence\n",
    "        if 3 < (len(sentences)) < 6:\n",
    "            return summarize(self.text,ratio = 0.6)\n",
    "        self.threshold = self._create_frequency_table()._score_sentences(sentences)._find_average_score()\n",
    "        self.threshold *= 0.8\n",
    "        summary = self._generate_summary(sentences)\n",
    "        return summary\n",
    "    \n",
    "    def polarity(self):\n",
    "        return TextBlob(self.text).sentiment.polarity\n",
    "    \n",
    "    def subjectivity(self):\n",
    "        return TextBlob(self.text).sentiment.subjectivity\n",
    "    \n",
    "    def entities(self):\n",
    "        return TextBlob(self.text).noun_phrases"
   ]
  },
  {
   "cell_type": "code",
   "execution_count": null,
   "metadata": {},
   "outputs": [],
   "source": []
  },
  {
   "cell_type": "code",
   "execution_count": null,
   "metadata": {},
   "outputs": [],
   "source": []
  }
 ],
 "metadata": {
  "kernelspec": {
   "display_name": "Python 3",
   "language": "python",
   "name": "python3"
  },
  "language_info": {
   "codemirror_mode": {
    "name": "ipython",
    "version": 3
   },
   "file_extension": ".py",
   "mimetype": "text/x-python",
   "name": "python",
   "nbconvert_exporter": "python",
   "pygments_lexer": "ipython3",
   "version": "3.7.3"
  }
 },
 "nbformat": 4,
 "nbformat_minor": 4
}
